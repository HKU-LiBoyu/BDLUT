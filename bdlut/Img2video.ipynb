{
 "cells": [
  {
   "cell_type": "code",
   "execution_count": 14,
   "id": "c3387980",
   "metadata": {
    "scrolled": false
   },
   "outputs": [
    {
     "name": "stdout",
     "output_type": "stream",
     "text": [
      "Video conversion completed!\n"
     ]
    }
   ],
   "source": [
    "import cv2\n",
    "import os\n",
    "\n",
    "name = 'Contra'\n",
    "# Path to the folder containing the images\n",
    "# image_folder = os.path.join(r\"C:\\Users\\Administrator\\Desktop\\\", n\n",
    "image_folder = r\"C:\\Users\\Administrator\\Desktop\\Contra\\2880p\"\n",
    "                            \n",
    "\n",
    "# Sort the image file names in ascending order\n",
    "images = sorted([img for img in os.listdir(image_folder) if img.endswith(\".png\")], key=lambda x:int(x[6:-4]))\n",
    "# images = sorted([img for img in os.listdir(image_folder) if img.endswith(\".png\")])\n",
    "# images = images[:200]\n",
    "\n",
    "\n",
    "# Define the output video file name\n",
    "output_video = os.path.join(image_folder, f'{name}.mp4')\n",
    "\n",
    "# Get the first image to extract its dimensions\n",
    "first_image = cv2.imread(os.path.join(image_folder, images[0]))\n",
    "height, width, layers = first_image.shape\n",
    "\n",
    "# Initialize the video writer\n",
    "video = cv2.VideoWriter(output_video, cv2.VideoWriter_fourcc(*'mp4v'), 30, (width, height))\n",
    "\n",
    "# Loop through the images and write them to the video\n",
    "for image in images:\n",
    "    img_path = os.path.join(image_folder, image)\n",
    "    frame = cv2.imread(img_path)\n",
    "    video.write(frame)\n",
    "\n",
    "# Release the video writer and close the video file\n",
    "video.release()\n",
    "cv2.destroyAllWindows()\n",
    "\n",
    "print(\"Video conversion completed!\")"
   ]
  }
 ],
 "metadata": {
  "kernelspec": {
   "display_name": "Python 3 (ipykernel)",
   "language": "python",
   "name": "python3"
  },
  "language_info": {
   "codemirror_mode": {
    "name": "ipython",
    "version": 3
   },
   "file_extension": ".py",
   "mimetype": "text/x-python",
   "name": "python",
   "nbconvert_exporter": "python",
   "pygments_lexer": "ipython3",
   "version": "3.10.9"
  }
 },
 "nbformat": 4,
 "nbformat_minor": 5
}
